{
  "nbformat": 4,
  "nbformat_minor": 0,
  "metadata": {
    "colab": {
      "provenance": []
    },
    "kernelspec": {
      "name": "python3",
      "display_name": "Python 3"
    },
    "language_info": {
      "name": "python"
    }
  },
  "cells": [
    {
      "cell_type": "code",
      "source": [
        "import json\n",
        "from datetime import datetime\n",
        "import time\n",
        "\n",
        "# Conversation history storage\n",
        "conversation_history = []\n",
        "\n"
      ],
      "metadata": {
        "id": "zbErg0CbCv7v"
      },
      "execution_count": 54,
      "outputs": []
    },
    {
      "cell_type": "code",
      "source": [
        "def display_message(role, message):\n",
        "    \"\"\"Display messages with timestamp.\"\"\"\n",
        "    timestamp = datetime.now().strftime('%Y-%m-%d %H:%M:%S')\n",
        "    if role == \"user\":\n",
        "        print(f\"[{timestamp}] You: {message}\")\n",
        "    else:\n",
        "        print(f\"[{timestamp}] Assistant: {message}\")\n",
        "    time.sleep(0.5)  # Simulate typing delay\n"
      ],
      "metadata": {
        "id": "sk6SqkLBCz_q"
      },
      "execution_count": 55,
      "outputs": []
    },
    {
      "cell_type": "code",
      "source": [
        "def summarize_conversation(history):\n",
        "    \"\"\"Simulate conversation summarization.\"\"\"\n",
        "    return \"This is a simulated summary of the last few conversation turns.\"\n",
        "\n",
        "def add_message(role, message, k=3):\n",
        "    \"\"\"Add message and summarize after every k messages.\"\"\"\n",
        "    global conversation_history\n",
        "    timestamp = datetime.now().strftime('%Y-%m-%d %H:%M:%S')\n",
        "    conversation_history.append({\n",
        "        'role': role,\n",
        "        'message': message,\n",
        "        'timestamp': timestamp\n",
        "    })\n",
        "\n",
        "    if len(conversation_history) % k == 0:\n",
        "        summary = summarize_conversation(conversation_history)\n",
        "        conversation_history = [{\n",
        "            'role': 'system',\n",
        "            'message': summary,\n",
        "            'timestamp': timestamp\n",
        "        }]\n"
      ],
      "metadata": {
        "id": "zwp1S7jCC1Rh"
      },
      "execution_count": 56,
      "outputs": []
    },
    {
      "cell_type": "code",
      "source": [
        "def truncate_by_turns(max_turns):\n",
        "    \"\"\"Keep only the last n messages.\"\"\"\n",
        "    return conversation_history[-max_turns:]\n",
        "\n",
        "def truncate_by_length(max_chars):\n",
        "    \"\"\"Truncate conversation by character length.\"\"\"\n",
        "    history_str = json.dumps(conversation_history)\n",
        "    if len(history_str) <= max_chars:\n",
        "        return conversation_history\n",
        "    return [{'role': 'system', 'message': 'History truncated due to size limit.',\n",
        "             'timestamp': datetime.now().strftime('%Y-%m-%d %H:%M:%S')}]\n"
      ],
      "metadata": {
        "id": "ssZs2R58DB03"
      },
      "execution_count": 57,
      "outputs": []
    },
    {
      "cell_type": "code",
      "source": [
        "def save_history(filename='conversation_log.json'):\n",
        "    with open(filename, 'w') as f:\n",
        "        json.dump(conversation_history, f, indent=2)\n",
        "    print(f\"[INFO] Saved conversation to {filename}\")\n",
        "\n",
        "def load_history(filename='conversation_log.json'):\n",
        "    global conversation_history\n",
        "    try:\n",
        "        with open(filename, 'r') as f:\n",
        "            conversation_history = json.load(f)\n",
        "        print(f\"[INFO] Loaded conversation from {filename}\")\n",
        "    except FileNotFoundError:\n",
        "        print(\"[INFO] No previous history found. Starting fresh.\")\n"
      ],
      "metadata": {
        "id": "zlzbGqNbDFHY"
      },
      "execution_count": 58,
      "outputs": []
    },
    {
      "cell_type": "code",
      "source": [
        "user_info_schema = {\n",
        "    \"type\": \"object\",\n",
        "    \"properties\": {\n",
        "        \"name\": {\"type\": \"string\"},\n",
        "        \"email\": {\"type\": \"string\"},\n",
        "        \"phone\": {\"type\": \"string\"},\n",
        "        \"location\": {\"type\": \"string\"},\n",
        "        \"age\": {\"type\": \"integer\"}\n",
        "    },\n",
        "    \"required\": [\"name\", \"email\", \"phone\", \"location\", \"age\"]\n",
        "}\n"
      ],
      "metadata": {
        "id": "EsQee4jZDGC_"
      },
      "execution_count": 59,
      "outputs": []
    },
    {
      "cell_type": "code",
      "source": [
        "def extract_user_info(chat_message):\n",
        "    \"\"\"Simulate structured extraction from chat message.\"\"\"\n",
        "    # Always returns Arpita Gupta info for demonstration\n",
        "    return {\n",
        "        \"name\": \"Arpita Gupta\",\n",
        "        \"email\": \"arpita.gupta@mail.com\",\n",
        "        \"phone\": \"720-555-0198\",\n",
        "        \"location\": \"Mumbai\",\n",
        "        \"age\": 21\n",
        "    }\n"
      ],
      "metadata": {
        "id": "1WHCbQMkDJUB"
      },
      "execution_count": 60,
      "outputs": []
    },
    {
      "cell_type": "code",
      "source": [
        "def assistant_reply(user_message):\n",
        "    \"\"\"Simulate assistant response.\"\"\"\n",
        "    return f\"Assistant simulated reply to: '{user_message}'\"\n",
        "\n",
        "def interactive_chat_demo():\n",
        "    # Conversation 1\n",
        "    display_message(\"user\", \"Hello!\")\n",
        "    display_message(\"assistant\", \"Hello Arpita Gupta! How can I help you today?\")\n",
        "    display_message(\"user\", \"I recently moved and need to update my account address.\")\n",
        "    display_message(\"assistant\", \"Sure! Could you provide your full name, email, phone, and age?\")\n",
        "    display_message(\"user\", \"My name is Arpita Gupta. Email: arpita.gupta@mail.com. Phone: 720-555-0198. Age: 29.\")\n",
        "    display_message(\"assistant\", \"Thank you! Your new city is Denver, correct?\")\n",
        "    display_message(\"user\", \"Yes, that’s correct.\")\n",
        "    display_message(\"assistant\", \"Perfect! Your address has been updated.\")\n",
        "\n",
        "    print(\"\\n--- Next Interaction ---\\n\")\n",
        "\n",
        "    # Conversation 2\n",
        "    display_message(\"user\", \"Hi\")\n",
        "    display_message(\"assistant\", \"Hi Arpita Gupta! How can I assist you today?\")\n",
        "    display_message(\"user\", \"I forgot my password and cannot log in.\")\n",
        "    display_message(\"assistant\", \"No problem! Please confirm your full name, email, phone, and age.\")\n",
        "    display_message(\"user\", \"I’m Arpita Gupta. Email: arpita.gupta@mail.com. Phone: 720-555-0198. Age: 29.\")\n",
        "    display_message(\"assistant\", \"Done! A password reset link has been sent to your email.\")\n",
        "\n",
        "    print(\"\\n--- Next Interaction ---\\n\")\n",
        "\n",
        "    # Conversation 3\n",
        "    display_message(\"user\", \"Hello\")\n",
        "    display_message(\"assistant\", \"Hello Arpita Gupta! What can I help you with today?\")\n",
        "    display_message(\"user\", \"I want to update my subscription preferences.\")\n",
        "    display_message(\"assistant\", \"Sure! Please provide your full name, email, phone, city, and age.\")\n",
        "    display_message(\"user\", \"I’m Arpita Gupta, Mumbai. Email: arpita.gupta@mail.com, Phone: 720-555-0198, Age: 29.\")\n",
        "    display_message(\"assistant\", \"Your subscription has been successfully updated to the premium plan.\")\n"
      ],
      "metadata": {
        "id": "xybyGYRaDR4Y"
      },
      "execution_count": 61,
      "outputs": []
    },
    {
      "cell_type": "code",
      "source": [
        "sample_chats = [\n",
        "    \"My name is Arpita Gupta. Email: arpita.gupta@mail.com. Phone: 720-555-0198. Location: Mumbai. Age: 21.\",\n",
        "    \"Hello, I'm Arpita Gupta from Delhi. Email: arpita.gupta@domain.com, Phone: 9876543210, Age: 21.\",\n",
        "    \"Hi, Arpita Gupta here. Email: arpita.gupta@mail.in, Phone: 720-555-0198, Location: Bangalore, Age: 21.\"\n",
        "]\n",
        "\n",
        "for idx, chat in enumerate(sample_chats, 1):\n",
        "    structured_data = extract_user_info(chat)\n",
        "    print(f\"\\n[Structured Data Sample #{idx}]\")\n",
        "    print(json.dumps(structured_data, indent=2))\n"
      ],
      "metadata": {
        "colab": {
          "base_uri": "https://localhost:8080/"
        },
        "id": "mGsonY4zDWGI",
        "outputId": "fbb74031-2adb-4495-aa20-173a854d372a"
      },
      "execution_count": 63,
      "outputs": [
        {
          "output_type": "stream",
          "name": "stdout",
          "text": [
            "\n",
            "[Structured Data Sample #1]\n",
            "{\n",
            "  \"name\": \"Arpita Gupta\",\n",
            "  \"email\": \"arpita.gupta@mail.com\",\n",
            "  \"phone\": \"720-555-0198\",\n",
            "  \"location\": \"Mumbai\",\n",
            "  \"age\": 21\n",
            "}\n",
            "\n",
            "[Structured Data Sample #2]\n",
            "{\n",
            "  \"name\": \"Arpita Gupta\",\n",
            "  \"email\": \"arpita.gupta@mail.com\",\n",
            "  \"phone\": \"720-555-0198\",\n",
            "  \"location\": \"Mumbai\",\n",
            "  \"age\": 21\n",
            "}\n",
            "\n",
            "[Structured Data Sample #3]\n",
            "{\n",
            "  \"name\": \"Arpita Gupta\",\n",
            "  \"email\": \"arpita.gupta@mail.com\",\n",
            "  \"phone\": \"720-555-0198\",\n",
            "  \"location\": \"Mumbai\",\n",
            "  \"age\": 21\n",
            "}\n"
          ]
        }
      ]
    },
    {
      "cell_type": "code",
      "source": [
        "save_history()\n"
      ],
      "metadata": {
        "colab": {
          "base_uri": "https://localhost:8080/"
        },
        "id": "fFg0RWs3Dj0l",
        "outputId": "f5cf6724-abe1-4644-cf73-fb20691b7074"
      },
      "execution_count": 64,
      "outputs": [
        {
          "output_type": "stream",
          "name": "stdout",
          "text": [
            "[INFO] Saved conversation to conversation_log.json\n"
          ]
        }
      ]
    },
    {
      "cell_type": "code",
      "source": [
        "# Load conversation history from file\n",
        "load_history('conversation_log.json')\n",
        "\n",
        "# Display loaded history\n",
        "print(\"\\n--- Loaded Conversation History ---\\n\")\n",
        "for entry in conversation_history:\n",
        "    print(f\"[{entry['timestamp']}] {entry['role'].capitalize()}: {entry['message']}\")\n"
      ],
      "metadata": {
        "colab": {
          "base_uri": "https://localhost:8080/"
        },
        "id": "Auwn8MApEM36",
        "outputId": "5e7b3873-217d-46b8-bb2f-f541fc1a1ea8"
      },
      "execution_count": 65,
      "outputs": [
        {
          "output_type": "stream",
          "name": "stdout",
          "text": [
            "[INFO] Loaded conversation from conversation_log.json\n",
            "\n",
            "--- Loaded Conversation History ---\n",
            "\n"
          ]
        }
      ]
    },
    {
      "cell_type": "code",
      "source": [
        "# Truncate by last 3 turns\n",
        "last_3_turns = truncate_by_turns(3)\n",
        "print(\"\\n--- Truncated by last 3 turns ---\\n\")\n",
        "for entry in last_3_turns:\n",
        "    print(f\"[{entry['timestamp']}] {entry['role'].capitalize()}: {entry['message']}\")\n",
        "\n",
        "# Truncate by max 300 characters\n",
        "truncated_by_chars = truncate_by_length(300)\n",
        "print(\"\\n--- Truncated by 300 characters ---\\n\")\n",
        "for entry in truncated_by_chars:\n",
        "    print(f\"[{entry['timestamp']}] {entry['role'].capitalize()}: {entry['message']}\")\n"
      ],
      "metadata": {
        "colab": {
          "base_uri": "https://localhost:8080/"
        },
        "id": "BybJJrNmEP0-",
        "outputId": "e0c1f98d-262e-497e-fcd5-c50c3f8bf8e5"
      },
      "execution_count": 66,
      "outputs": [
        {
          "output_type": "stream",
          "name": "stdout",
          "text": [
            "\n",
            "--- Truncated by last 3 turns ---\n",
            "\n",
            "\n",
            "--- Truncated by 300 characters ---\n",
            "\n"
          ]
        }
      ]
    },
    {
      "cell_type": "code",
      "source": [
        "print(\"\\n=== Starting Full Interactive Chat Demo ===\\n\")\n",
        "interactive_chat_demo()\n"
      ],
      "metadata": {
        "colab": {
          "base_uri": "https://localhost:8080/"
        },
        "id": "fNk6-NSCEV72",
        "outputId": "7e4b4d8c-55a1-43f4-9b54-bc8145d257c1"
      },
      "execution_count": 67,
      "outputs": [
        {
          "output_type": "stream",
          "name": "stdout",
          "text": [
            "\n",
            "=== Starting Full Interactive Chat Demo ===\n",
            "\n",
            "[2025-09-16 15:07:57] You: Hello!\n",
            "[2025-09-16 15:07:57] Assistant: Hello Arpita Gupta! How can I help you today?\n",
            "[2025-09-16 15:07:58] You: I recently moved and need to update my account address.\n",
            "[2025-09-16 15:07:58] Assistant: Sure! Could you provide your full name, email, phone, and age?\n",
            "[2025-09-16 15:07:59] You: My name is Arpita Gupta. Email: arpita.gupta@mail.com. Phone: 720-555-0198. Age: 29.\n",
            "[2025-09-16 15:07:59] Assistant: Thank you! Your new city is Denver, correct?\n",
            "[2025-09-16 15:08:00] You: Yes, that’s correct.\n",
            "[2025-09-16 15:08:00] Assistant: Perfect! Your address has been updated.\n",
            "\n",
            "--- Next Interaction ---\n",
            "\n",
            "[2025-09-16 15:08:01] You: Hi\n",
            "[2025-09-16 15:08:01] Assistant: Hi Arpita Gupta! How can I assist you today?\n",
            "[2025-09-16 15:08:02] You: I forgot my password and cannot log in.\n",
            "[2025-09-16 15:08:02] Assistant: No problem! Please confirm your full name, email, phone, and age.\n",
            "[2025-09-16 15:08:03] You: I’m Arpita Gupta. Email: arpita.gupta@mail.com. Phone: 720-555-0198. Age: 29.\n",
            "[2025-09-16 15:08:03] Assistant: Done! A password reset link has been sent to your email.\n",
            "\n",
            "--- Next Interaction ---\n",
            "\n",
            "[2025-09-16 15:08:04] You: Hello\n",
            "[2025-09-16 15:08:04] Assistant: Hello Arpita Gupta! What can I help you with today?\n",
            "[2025-09-16 15:08:05] You: I want to update my subscription preferences.\n",
            "[2025-09-16 15:08:05] Assistant: Sure! Please provide your full name, email, phone, city, and age.\n",
            "[2025-09-16 15:08:06] You: I’m Arpita Gupta, Mumbai. Email: arpita.gupta@mail.com, Phone: 720-555-0198, Age: 29.\n",
            "[2025-09-16 15:08:06] Assistant: Your subscription has been successfully updated to the premium plan.\n"
          ]
        }
      ]
    },
    {
      "cell_type": "code",
      "source": [
        "# Simulated structured extraction function\n",
        "def extract_user_info_from_chat(chat_turns):\n",
        "    \"\"\"\n",
        "    Extract structured info from chat conversation.\n",
        "    Returns the most recent user-provided details.\n",
        "    \"\"\"\n",
        "    # Simulated response for demonstration\n",
        "    return {\n",
        "        \"name\": \"Arpita Gupta\",\n",
        "        \"email\": \"arpita.gupta@mail.com\",\n",
        "        \"phone\": \"720-555-0198\",\n",
        "        \"location\": \"Mumbai\",\n",
        "        \"age\": 29\n",
        "    }\n"
      ],
      "metadata": {
        "id": "V4Y1EQ5WE8i8"
      },
      "execution_count": 70,
      "outputs": []
    },
    {
      "cell_type": "code",
      "source": [
        "interactive_chats = [\n",
        "    \"Conversation 1: Update address\",\n",
        "    \"Conversation 2: Forgot password\",\n",
        "    \"Conversation 3: Update subscription\"\n",
        "]\n",
        "\n",
        "for idx, chat_title in enumerate(interactive_chats, 1):\n",
        "    structured_data = extract_user_info_from_chat(chat_title)\n",
        "    print(f\"\\n[Structured Data from {chat_title}]\")\n",
        "    print(json.dumps(structured_data, indent=2))\n"
      ],
      "metadata": {
        "colab": {
          "base_uri": "https://localhost:8080/"
        },
        "id": "oqcZz7mAEhLg",
        "outputId": "e3751e10-7a96-40d8-fa4f-f1e66c70ea83"
      },
      "execution_count": 71,
      "outputs": [
        {
          "output_type": "stream",
          "name": "stdout",
          "text": [
            "\n",
            "[Structured Data from Conversation 1: Update address]\n",
            "{\n",
            "  \"name\": \"Arpita Gupta\",\n",
            "  \"email\": \"arpita.gupta@mail.com\",\n",
            "  \"phone\": \"720-555-0198\",\n",
            "  \"location\": \"Mumbai\",\n",
            "  \"age\": 29\n",
            "}\n",
            "\n",
            "[Structured Data from Conversation 2: Forgot password]\n",
            "{\n",
            "  \"name\": \"Arpita Gupta\",\n",
            "  \"email\": \"arpita.gupta@mail.com\",\n",
            "  \"phone\": \"720-555-0198\",\n",
            "  \"location\": \"Mumbai\",\n",
            "  \"age\": 29\n",
            "}\n",
            "\n",
            "[Structured Data from Conversation 3: Update subscription]\n",
            "{\n",
            "  \"name\": \"Arpita Gupta\",\n",
            "  \"email\": \"arpita.gupta@mail.com\",\n",
            "  \"phone\": \"720-555-0198\",\n",
            "  \"location\": \"Mumbai\",\n",
            "  \"age\": 29\n",
            "}\n"
          ]
        }
      ]
    },
    {
      "cell_type": "code",
      "source": [
        "# Save the current conversation history\n",
        "save_history('conversation_log.json')\n",
        "\n",
        "# Load it back to confirm persistence\n",
        "load_history('conversation_log.json')\n",
        "\n",
        "# Display loaded history\n",
        "print(\"\\n--- Loaded Conversation History ---\\n\")\n",
        "for entry in conversation_history:\n",
        "    print(f\"[{entry['timestamp']}] {entry['role'].capitalize()}: {entry['message']}\")\n"
      ],
      "metadata": {
        "colab": {
          "base_uri": "https://localhost:8080/"
        },
        "id": "RoQ_8QS4FQrt",
        "outputId": "742256aa-c36c-499b-9c20-7a6abcb26751"
      },
      "execution_count": 72,
      "outputs": [
        {
          "output_type": "stream",
          "name": "stdout",
          "text": [
            "[INFO] Saved conversation to conversation_log.json\n",
            "[INFO] Loaded conversation from conversation_log.json\n",
            "\n",
            "--- Loaded Conversation History ---\n",
            "\n"
          ]
        }
      ]
    },
    {
      "cell_type": "code",
      "source": [
        "# Truncate by last 3 turns\n",
        "last_3_turns = truncate_by_turns(3)\n",
        "print(\"\\n--- Truncated by last 3 turns ---\\n\")\n",
        "for entry in last_3_turns:\n",
        "    print(f\"[{entry['timestamp']}] {entry['role'].capitalize()}: {entry['message']}\")\n",
        "\n",
        "# Truncate by max 300 characters\n",
        "truncated_by_chars = truncate_by_length(300)\n",
        "print(\"\\n--- Truncated by 300 characters ---\\n\")\n",
        "for entry in truncated_by_chars:\n",
        "    print(f\"[{entry['timestamp']}] {entry['role'].capitalize()}: {entry['message']}\")\n"
      ],
      "metadata": {
        "colab": {
          "base_uri": "https://localhost:8080/"
        },
        "id": "iwAEbHsXFSXE",
        "outputId": "25109daa-a8fd-4608-b601-62897b5b9833"
      },
      "execution_count": 73,
      "outputs": [
        {
          "output_type": "stream",
          "name": "stdout",
          "text": [
            "\n",
            "--- Truncated by last 3 turns ---\n",
            "\n",
            "\n",
            "--- Truncated by 300 characters ---\n",
            "\n"
          ]
        }
      ]
    },
    {
      "cell_type": "code",
      "source": [
        "# Simulated summary of the entire conversation\n",
        "final_summary = summarize_conversation(conversation_history)\n",
        "print(\"\\n--- Final Conversation Summary ---\\n\")\n",
        "print(final_summary)\n"
      ],
      "metadata": {
        "colab": {
          "base_uri": "https://localhost:8080/"
        },
        "id": "ahIsEIS4Fa-h",
        "outputId": "38998e0a-3922-4bb2-d156-602ecc4b7940"
      },
      "execution_count": 74,
      "outputs": [
        {
          "output_type": "stream",
          "name": "stdout",
          "text": [
            "\n",
            "--- Final Conversation Summary ---\n",
            "\n",
            "This is a simulated summary of the last few conversation turns.\n"
          ]
        }
      ]
    }
  ]
}